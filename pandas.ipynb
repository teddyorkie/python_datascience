{
 "cells": [
  {
   "cell_type": "markdown",
   "metadata": {
    "slideshow": {
     "slide_type": "slide"
    }
   },
   "source": [
    "## Tạo dữ liệu\n",
    "Có 2 đối tượng chính trong pandas: **DataFrame** và **Series**.\n",
    "### DataFrame\n",
    "Một DataFrame là một bảng. Nó chứa một mảng các mục riêng lẻ, mỗi mục có một giá trị nhất định. Mỗi mục tương ứng với một hàng (hoặc bản ghi) và một cột.\n",
    "\n",
    "Ví dụ, hãy xem xét DataFrame đơn giản sau đây"
   ]
  },
  {
   "cell_type": "code",
   "execution_count": null,
   "metadata": {
    "slideshow": {
     "slide_type": "fragment"
    }
   },
   "outputs": [],
   "source": [
    "import pandas as pd\n",
    "pd.DataFrame({'Yes': [50, 21], 'No': [131, 2]})"
   ]
  },
  {
   "cell_type": "markdown",
   "metadata": {},
   "source": [
    "Trong ví dụ này, mục \"0, No\" có giá trị 131. Mục \"0, Yes\" có giá trị là 50.\n",
    "\n",
    "Các giá trị của DataFrame có thể là kiểu chuỗi."
   ]
  },
  {
   "cell_type": "code",
   "execution_count": null,
   "metadata": {},
   "outputs": [],
   "source": [
    "pd.DataFrame({'Bob': ['I liked it.', 'It was awful.'], 'Sue': ['Pretty good.', 'Bland.']})"
   ]
  },
  {
   "cell_type": "markdown",
   "metadata": {
    "slideshow": {
     "slide_type": "slide"
    }
   },
   "source": [
    "Chúng ta sử dụng pd.DataFrame () để tạo các đối tượng DataFrame này. Cú pháp khai báo là một từ điển có các khóa là tên cột (`Bob` và `Sue` trong ví dụ này) và có mục là một danh sách các giá trị. Đây là cách thông dụng nhất để tạo một DataFrame mới.\n",
    "\n",
    "Cách này gán các nhãn cột, nhưng chỉ sử dụng số tăng dần từ 0 (0, 1, 2, 3, ...) cho các hàng. Nhưng đôi khi chúng ta sẽ muốn tự gán các nhãn này.\n",
    "\n",
    "Danh sách các nhãn hàng được sử dụng trong DataFrame được gọi là **Index**. Chúng ta có thể gán giá trị cho nó bằng cách sử dụng tham số `index` trong hàm tạo của chúng tôi:"
   ]
  },
  {
   "cell_type": "code",
   "execution_count": null,
   "metadata": {
    "slideshow": {
     "slide_type": "fragment"
    }
   },
   "outputs": [],
   "source": [
    "pd.DataFrame({'Bob': ['I liked it.', 'It was awful.'], \n",
    "              'Sue': ['Pretty good.', 'Bland.']},\n",
    "             index=['Product A', 'Product B'])"
   ]
  },
  {
   "cell_type": "markdown",
   "metadata": {
    "slideshow": {
     "slide_type": "slide"
    }
   },
   "source": [
    "### Series\n",
    "Nếu DataFrame là một bảng thì một Series có thể được tạo từ một list. Bản chất, Series là một cột trong DataFrame. Tuy nhein6, Series không có tên cột, chỉ có duy nhất thuộc tính `name`:"
   ]
  },
  {
   "cell_type": "code",
   "execution_count": null,
   "metadata": {
    "slideshow": {
     "slide_type": "fragment"
    }
   },
   "outputs": [],
   "source": [
    "pd.Series([1, 2, 3, 4, 5])\n",
    "# A2 = pd.Series([5,4,3,2,1])\n",
    "# pd.DataFrame({A1,A2})"
   ]
  },
  {
   "cell_type": "code",
   "execution_count": null,
   "metadata": {
    "slideshow": {
     "slide_type": "fragment"
    }
   },
   "outputs": [],
   "source": [
    "pd.Series([30, 35, 40], index=['2015 Sales', '2016 Sales', '2017 Sales'], name='Product A')"
   ]
  },
  {
   "cell_type": "markdown",
   "metadata": {
    "slideshow": {
     "slide_type": "slide"
    }
   },
   "source": [
    "## Đọc dữ liệu\n",
    "Hàm `pd.read_csv()` có đến hơn 30 tham số tùy chọn. Ví dụ, trong dataset này có sẵn index mà pandas sẽ không tự động phát hiện được. Để bắt pandas dùng cột này làm index (thay vì tạo index mới) chúng ta có thể dùng `index_col`."
   ]
  },
  {
   "cell_type": "code",
   "execution_count": null,
   "metadata": {
    "slideshow": {
     "slide_type": "fragment"
    }
   },
   "outputs": [],
   "source": [
    "wine_reviews = pd.read_csv(\"../input/wine_reviews/winemag-data-130k-v2.csv\", index_col=0)\n",
    "wine_reviews.head()"
   ]
  },
  {
   "cell_type": "markdown",
   "metadata": {
    "slideshow": {
     "slide_type": "subslide"
    }
   },
   "source": [
    "Một vài đối số cần lưu ý:\n",
    "* `sep`: dấu ngăn cách cột, mặc định là `,` nhưng cũng có thể là tab)\n",
    "* `names`: dùng để đặt tên cho các cột\n",
    "* `skiprows`: bỏ qua x dòng đầu\n",
    "* `skipfooter`: bỏ qua y dòng cuối\n",
    "Một mánh khác là ta có thể dùng hàm `read_clipboard(index_col='xxx')` sau khi đã copy (Ctrl-C) một bảng từ Excel hay GoogleSheet chẳng hạn."
   ]
  },
  {
   "cell_type": "markdown",
   "metadata": {
    "slideshow": {
     "slide_type": "slide"
    }
   },
   "source": [
    "## Tóm tắt dữ liệu\n",
    "### Dùng `head`, `tail`, và `sample`.\n",
    "### Có bao nhiêu cách để biết dữ liệu có bao nhiêu dòng?"
   ]
  },
  {
   "cell_type": "markdown",
   "metadata": {
    "slideshow": {
     "slide_type": "slide"
    }
   },
   "source": [
    "## Bài tập\n",
    "### 1\n",
    "* Tạo một DataFrame `fruits` trông như sau:\n",
    "![](https://i.imgur.com/Ax3pp2A.png)\n",
    "\n",
    "* Tạo một Series `ingredients` trông như sau:\n",
    "```\n",
    "Flour     4 cups\n",
    "Milk       1 cup\n",
    "Eggs     2 large\n",
    "Spam       1 can\n",
    "Name: Dinner, dtype: object\n",
    "```"
   ]
  },
  {
   "cell_type": "markdown",
   "metadata": {
    "slideshow": {
     "slide_type": "slide"
    }
   },
   "source": [
    "### 2\n",
    "Bây giờ tạo một dataframe `fruit_sales` trông như sau:\n",
    "![](https://i.imgur.com/CHPn7ZF.png)"
   ]
  },
  {
   "cell_type": "markdown",
   "metadata": {
    "slideshow": {
     "slide_type": "subslide"
    }
   },
   "source": [
    "### 3\n",
    "Đọc file [`winemag-data-130k-v2.csv`](https://drive.google.com/open?id=1hmwQ4DPv7w0U8AjkoAEzbMc3FR6jGGKp) vào biến `reviews` và hiển thị vài dòng đầu tiên. Xuất `fruit_sales` ra file fruit_sales.csv"
   ]
  },
  {
   "cell_type": "markdown",
   "metadata": {
    "slideshow": {
     "slide_type": "slide"
    }
   },
   "source": [
    "## Indexing, Selecting & Assigning\n",
    "### Truy cập cơ bản (Chọn 1 cột vs chọn nhiều cột)\n",
    "Tương tự như trong Python, chúng ta có thể truy cập cột của DataFrame giống như truy cập thuộc tính của object. Hoặc dùng toán tử index `[]` để truy cập giá trị của một từ điển.\n",
    "`wine_reviews.country` hoặc `wine_reviews['country']` (nếu tên cột có chứa ký tự đặc biệt thì chỉ có thể truy cập với `[]` )\n",
    "\n",
    "* `wine_reviews['description'].head(5)`\n",
    "* `wine_reviews[['country', 'price']].sample(5)`\n",
    "\n",
    "**Đặc biệt lưu ý:** dùng 2 ngoặc vuông liên tiếp khi muốn chọn từ 2 cột trở lên. Rất nhiều lần tôi bị nhầm lẫn chỗ này. 2 ngoặc vuông liên tiếp sẽ trả ra một DataFrame, kể cả khi ta dùng cho 1 cột (vd `wine_reviews[['description']]`). Nếu bạn chỉ dùng 1 ngoặc vuông, nội dung bên trong dấu ngoặc [] được xem như là 1 cột, và đương nhiên sẽ báo lỗi khi không có cột như vậy trong DataFrame của bạn.\n",
    "\n",
    "\n",
    "### Indexing in pandas\n",
    "Ta có thể truy cập theo kiểu numpy (`wine_reviews[5:10]['description']`), tuy nhiên, chúng ta nên dùng toán tử riêng của Pandas: `loc` và `iloc` để truy cập từng hàng của DataFrame.\n",
    "\n",
    "1. **Chọn theo index (Index-based)**\n",
    "    * `wine_reviews.iloc[0]`\n",
    "    * `wine_reviews.iloc[:,0]`\n",
    "    * Hiển thị 5 phần tử cuối của dataset: `wine_reviews.iloc[-5:]`\n",
    "2. **Chọn theo nhãn (Label-based)**\n",
    "    * `wine_reviews.loc[0, 'country']`\n",
    "    * `wine_reviews.loc[:, ['taster_name', 'taster_twitter_handle', 'points']]`\n",
    "3. **Khác biệt giữa `loc` và `iloc`:**\n",
    "`iloc` tương tự như index trong Python stdlib, bỏ phần tử cuối cùng, trong khi `loc` bao gồm tất cả phần tử. **Tại sao?**: Vì `loc` có thể index cả strings, nên `df.loc['Apples':'Potatoes']` thì rõ ràng là thuận tiện hơn `df.loc['Apples':'Potatoet']`\n",
    "Tuy nhiên, ta phải cẩn thận trong trường hợp DataFrame index là số tự nhiên. Ví dụ: `df.iloc[0:1000]` sẽ trả về 1000 giá trị trong khí đó `df.loc[0:1000]` sẽ cho đến 1001."
   ]
  },
  {
   "cell_type": "markdown",
   "metadata": {
    "slideshow": {
     "slide_type": "slide"
    }
   },
   "source": [
    "### Chọn theo điều kiện\n",
    "Giả sử chúng ta quan tâm đến các loại vang ngon hơn trung bình được sản xuất ở Ý. Có thể bắt đầu bằng cách lọc trong danh sách những loại nào của Ý trước:"
   ]
  },
  {
   "cell_type": "code",
   "execution_count": 5,
   "metadata": {
    "slideshow": {
     "slide_type": "fragment"
    }
   },
   "outputs": [
    {
     "data": {
      "text/plain": [
       "0          True\n",
       "1         False\n",
       "2         False\n",
       "3         False\n",
       "4         False\n",
       "          ...  \n",
       "129966    False\n",
       "129967    False\n",
       "129968    False\n",
       "129969    False\n",
       "129970    False\n",
       "Name: country, Length: 129971, dtype: bool"
      ]
     },
     "execution_count": 5,
     "metadata": {},
     "output_type": "execute_result"
    }
   ],
   "source": [
    "wine_reviews.country == 'Italy'"
   ]
  },
  {
   "cell_type": "code",
   "execution_count": null,
   "metadata": {
    "slideshow": {
     "slide_type": "fragment"
    }
   },
   "outputs": [],
   "source": [
    "wine_reviews.loc[wine_reviews.country == 'Italy']\n",
    "wine_reviews.describe()"
   ]
  },
  {
   "cell_type": "markdown",
   "metadata": {
    "slideshow": {
     "slide_type": "slide"
    }
   },
   "source": [
    "Kết quả có ~20,000 dòng, trong khi dữ liệu gốc có ~130K bản ghi. Nghĩa là khoảng 15% số vang có nguồn gốc từ Ý. Vang cũng được đánh giá theo thang điểm từ 80-100, nên muốn tìm loại vang trên trung bình thì phải có ít nhất 90 điểm. Ta có thể dùng toán tử `&` để ghép 2 điều kiện lại."
   ]
  },
  {
   "cell_type": "code",
   "execution_count": null,
   "metadata": {
    "slideshow": {
     "slide_type": "fragment"
    }
   },
   "outputs": [],
   "source": [
    "wine_reviews.loc[(wine_reviews.country == 'Italy') & (wine_reviews.points >= 90)]"
   ]
  },
  {
   "cell_type": "markdown",
   "metadata": {
    "slideshow": {
     "slide_type": "fragment"
    }
   },
   "source": [
    "Một vài toán tử khác bao gồm `|` (OR) `isin` (tìm trong danh sách) `reviews.loc[reviews.country.isin(['Italy', 'France'])]`; `isnull` và `notnull` (dùng để lọc các trường trống (`NaN`) vd `reviews.loc[reviews.price.notnull()]`"
   ]
  },
  {
   "cell_type": "code",
   "execution_count": null,
   "metadata": {
    "slideshow": {
     "slide_type": "fragment"
    }
   },
   "outputs": [],
   "source": [
    "wine_reviews.loc[wine_reviews.country.isin(['Italy', 'France'])]"
   ]
  },
  {
   "cell_type": "markdown",
   "metadata": {
    "slideshow": {
     "slide_type": "slide"
    }
   },
   "source": [
    "## Bài tập\n",
    "### 1\n",
    "Dùng biến ngắn hơn: `reviews = wine_reviews`\n",
    "1. Chọn cột `description` từ `reviews` và gán vào biến `desc`. \n",
    "2. Sau đó chọn giá trị đầu tiên từ cột description này gán vào biến `first_description` và chọn 10 giá trị đầu tiên trong `description` gán vào biến `first_descriptions`"
   ]
  },
  {
   "cell_type": "code",
   "execution_count": null,
   "metadata": {},
   "outputs": [],
   "source": [
    "reviews = wine_reviews\n",
    "desc = reviews.description\n",
    "\n",
    "first_descriptions = desc[:10]\n",
    "first_descriptions"
   ]
  },
  {
   "cell_type": "markdown",
   "metadata": {
    "slideshow": {
     "slide_type": "slide"
    }
   },
   "source": [
    "### 2\n",
    "4. Chọn các bản ghi với index 1, 2, 3, 5, 8 gán kết quả vào biến `sample_reviews`.\n",
    "5. Tạo biến `df` chứa các cột `country`,`province`, `region_1`, và `region_2` của các dòng có index 0, 1, 10, 100. Nói cách khác, tạo ra DataFrame như sau:\n",
    "![](https://i.imgur.com/FUCGiKP.png)"
   ]
  },
  {
   "cell_type": "code",
   "execution_count": null,
   "metadata": {},
   "outputs": [],
   "source": [
    "import numpy as np\n",
    "a = np.array(range(1,15,3))\n",
    "# a = a[1:15:3]\n",
    "# a\n",
    "reviews.iloc[a,:]"
   ]
  },
  {
   "cell_type": "markdown",
   "metadata": {},
   "source": [
    "### 3\n",
    "6. Tạo biến `df` chứa các cột `country` và `variety` của 100 dòng đầu tiên\n",
    "7. Tạo DataFrame `top_oceania_wines` chứa tất cả reviews đạt ít nhất 95 điểm cho các dòng vang từ Australia hay New Zealand"
   ]
  },
  {
   "cell_type": "code",
   "execution_count": null,
   "metadata": {},
   "outputs": [],
   "source": []
  },
  {
   "cell_type": "markdown",
   "metadata": {
    "slideshow": {
     "slide_type": "slide"
    }
   },
   "source": [
    "## Các hàm tóm tắt, tổng hợp dữ liệu\n",
    "* `reviews.points.describe()` cho ra bảng tổng hợp cho dữ liệu dạng số. Còn với dữ liệu dạng chuỗi vd `reviews.taster_name.describe()` thì hiển thị dạng khác"
   ]
  },
  {
   "cell_type": "code",
   "execution_count": null,
   "metadata": {},
   "outputs": [],
   "source": [
    "reviews.points.describe()"
   ]
  },
  {
   "cell_type": "code",
   "execution_count": null,
   "metadata": {},
   "outputs": [],
   "source": [
    "reviews.taster_name.describe()"
   ]
  },
  {
   "cell_type": "markdown",
   "metadata": {},
   "source": [
    "* `value_count()` cho ta thấy danh sách các giá trị không trùng và đếm số lần xuất hiện trong dataset."
   ]
  },
  {
   "cell_type": "code",
   "execution_count": null,
   "metadata": {},
   "outputs": [],
   "source": [
    "reviews.taster_name.value_counts()"
   ]
  },
  {
   "cell_type": "markdown",
   "metadata": {},
   "source": [
    "## Maps\n",
    "Trong khoa học dữ liệu, thường chúng ta cần phải tạo ra góc nhìn mới từ dữ liệu hiện tại, hoặc chuyển format thành dạng chúng ta cần. Các phép biến đổi này cực kỳ quan trọng.\n",
    "### map()\n",
    "Giả sử chúng ta muốn chuyển giá trị trung bình của điểm rượu vang thành 0. `map()` nhận một hàm có **1** đối số và thao tác trên đối số đó. `map()` sau đó trả ra một Series các giá trị mới"
   ]
  },
  {
   "cell_type": "code",
   "execution_count": null,
   "metadata": {},
   "outputs": [],
   "source": [
    "review_points_mean = reviews.points.mean()\n",
    "def minus_mean(v):\n",
    "    return v - review_points_mean\n",
    "\n",
    "A = reviews.points.map(lambda p: p - review_points_mean)\n",
    "pd.concat([A.rename('new_points'), reviews.points], axis=1)"
   ]
  },
  {
   "cell_type": "markdown",
   "metadata": {},
   "source": [
    "### apply()\n",
    "Tương tự map() nhưng được dùng khi ra muốn thao tác trển cả DataFrame bằng cách gọi hàm áp vào mỗi dòng thay vì mỗi giá trị.\n",
    "**Lambda Functions**\n",
    "Đây là hàm ngắn gọn, chỉ dùng 1 lần. Nếu đã quen với nó thì khá tiện. Vd: Ta có thể lấy tách tên và họ của người đánh giá dựa vào khoảng trống và sau đó hiển thị họ thôi"
   ]
  },
  {
   "cell_type": "code",
   "execution_count": null,
   "metadata": {},
   "outputs": [],
   "source": [
    "reviews['taster_name'].head(10).apply(lambda x: x.split(' ')[-1])"
   ]
  },
  {
   "cell_type": "code",
   "execution_count": null,
   "metadata": {},
   "outputs": [],
   "source": [
    "def remean_points(row):\n",
    "    row.points = row.points - review_points_mean\n",
    "    return row\n",
    "\n",
    "reviews.head(100).apply(lambda r: r.points - review_points_mean, axis='columns') # axis = \"index\""
   ]
  },
  {
   "cell_type": "markdown",
   "metadata": {},
   "source": [
    "\\*Lưu ý `map()` và `apply()` trả về Series và DataFrames mới với dữ liệu đã được thay đổi. \n",
    "\n",
    "Ngoài ra, Pandas cũng cung cấp sẵn nhiều toán tử thực hiện các phép mapping thường dùng. "
   ]
  },
  {
   "cell_type": "code",
   "execution_count": null,
   "metadata": {},
   "outputs": [],
   "source": [
    "review_points_mean = reviews.points.mean()\n",
    "reviews.points - review_points_mean"
   ]
  },
  {
   "cell_type": "markdown",
   "metadata": {},
   "source": [
    "Trong code trên, chúng ta thực hiện phép trừ giữa một bên tay trái là 1 dãy giá trị và một giá trị đơn bên tay phải. Giống như numpy, Pandas tự hiểu là làm phép trừ GTTB khỏi mỗi giá trị trong chuỗi. Tương tự khi làm với Series, thậm chí còn nhanh hơn cả map() và apply()."
   ]
  },
  {
   "cell_type": "code",
   "execution_count": null,
   "metadata": {},
   "outputs": [],
   "source": [
    "reviews.country + \" - \" + reviews.region_1\n",
    "# reviews[['country', 'region_1']]"
   ]
  },
  {
   "cell_type": "markdown",
   "metadata": {},
   "source": [
    "## Bài tập thực hành\n",
    "1. Giá trị chính giữa (median) của cột `points` là gì?\n",
    "2. Những nước nào có mặt trong dataset?\n",
    "3. Mỗi nước xuất hiện bao nhiêu lần trong tập này? \n",
    "4. Tạo biến `centered_price` chứa một tập điểm từ `points` có mean = 0 (đây là một bước tiền xử lý dữ liệu thường gặp trước khi áp dụng dữ liệu vào các thuật toán máy học khác nhau)\n",
    "5. Tôi muốn biết loại tên rượu vang có tỉ lệ điểm so với giá cao nhất.\n",
    "6. Một chai vang thì có thể được gán tính từ *nhiệt đới* hay là có *vị trái cây*. Tạo một Series `desc_counts` đếm số lần mỗi từ `tropical` hay `fruity` xuất hiện trong cột mô tả \n",
    "7. Cách chấm điểm 80-100 này có vẻ quá khó hiểu, chúng ta muốn chuyển thành cách thức chấm điểm đơn giản 1-3 sao. Điểm 95 trở lên được tính là 3 sao, điểm ít nhất 85 nhưng bé hơn 95 là được 2 sao. Ít hơn nữa thì là 1 sao. Ngoài ra cứ vang Canada thì tự động được 3 sao vì họ đăng rất nhiều quảng cáo trên site review. Tạo Series `star_ratings` với số sao tương ứng với điểm review trong tập dữ liệu."
   ]
  },
  {
   "cell_type": "code",
   "execution_count": null,
   "metadata": {},
   "outputs": [],
   "source": [
    "reviews.points.median() #1"
   ]
  },
  {
   "cell_type": "code",
   "execution_count": null,
   "metadata": {},
   "outputs": [],
   "source": [
    "reviews.country.unique() #2"
   ]
  },
  {
   "cell_type": "code",
   "execution_count": null,
   "metadata": {},
   "outputs": [],
   "source": [
    "reviews.country.value_counts() #3"
   ]
  },
  {
   "cell_type": "code",
   "execution_count": null,
   "metadata": {},
   "outputs": [],
   "source": [
    "#4\n",
    "centered_price = reviews.price - reviews.price.mean()\n",
    "centered_price.describe()"
   ]
  },
  {
   "cell_type": "code",
   "execution_count": null,
   "metadata": {},
   "outputs": [],
   "source": [
    "#5\n",
    "idx = (reviews.points / reviews.price).idxmax()\n",
    "vang_tot_nhat = reviews.loc[idx, 'title']\n",
    "vang_tot_nhat"
   ]
  },
  {
   "cell_type": "code",
   "execution_count": null,
   "metadata": {},
   "outputs": [],
   "source": [
    "#6\n",
    "n_tropical = reviews.description.map(lambda d: \"tropical\" in d).sum()\n",
    "n_fruity = reviews.description.map(lambda d: \"fruity\" in d).sum()\n",
    "\n",
    "counter = pd.Series([n_fruity, n_tropical], index=['fruity', 'tropical'])\n",
    "counter"
   ]
  },
  {
   "cell_type": "code",
   "execution_count": null,
   "metadata": {},
   "outputs": [],
   "source": [
    "#7\n",
    "def get_star_rate(row):\n",
    "    if row.country == 'Canada':\n",
    "        return 3\n",
    "    if row.points >= 95:\n",
    "        return 3\n",
    "    elif row.points >= 85:\n",
    "        return 2\n",
    "    else:\n",
    "        return 1\n",
    "    \n",
    "star_rate = reviews.head(1125).apply(get_star_rate, axis=1)\n",
    "star_rate.value_counts()"
   ]
  }
 ],
 "metadata": {
  "celltoolbar": "Slideshow",
  "kernelspec": {
   "display_name": "Python 3",
   "language": "python",
   "name": "python3"
  },
  "language_info": {
   "codemirror_mode": {
    "name": "ipython",
    "version": 3
   },
   "file_extension": ".py",
   "mimetype": "text/x-python",
   "name": "python",
   "nbconvert_exporter": "python",
   "pygments_lexer": "ipython3",
   "version": "3.6.8"
  },
  "toc": {
   "base_numbering": 1,
   "nav_menu": {
    "height": "247px",
    "width": "306px"
   },
   "number_sections": true,
   "sideBar": true,
   "skip_h1_title": false,
   "title_cell": "Table of Contents",
   "title_sidebar": "Contents",
   "toc_cell": false,
   "toc_position": {},
   "toc_section_display": true,
   "toc_window_display": false
  },
  "widgets": {
   "application/vnd.jupyter.widget-state+json": {
    "state": {},
    "version_major": 2,
    "version_minor": 0
   }
  }
 },
 "nbformat": 4,
 "nbformat_minor": 2
}
