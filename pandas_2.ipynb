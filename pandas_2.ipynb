{
 "cells": [
  {
   "cell_type": "markdown",
   "metadata": {},
   "source": [
    "# Pandas Intermediate"
   ]
  },
  {
   "cell_type": "code",
   "execution_count": 4,
   "metadata": {},
   "outputs": [],
   "source": [
    "import pandas as pd\n",
    "reviews = pd.read_csv(\"../input/wine_reviews/winemag-data-130k-v2.csv\", index_col=0)"
   ]
  },
  {
   "cell_type": "code",
   "execution_count": null,
   "metadata": {},
   "outputs": [],
   "source": [
    "# Làm cho Notebook rộng hơn một chút, \n",
    "# cần thiết nếu dùng màn hình rộng\n",
    "from IPython.core.display import display, HTML\n",
    "display(HTML(\"<style>.container {width:90% !important;}</style>\"))"
   ]
  },
  {
   "cell_type": "markdown",
   "metadata": {},
   "source": [
    "## Các phân tích với nhóm\n",
    "Khi muốn nhóm dữ liệu lại, chúng ta có thể dùng hàm `groupby()`. Trong slide trước chúng ta đã dùng hàm `value_counts()` để đếm số lần xuất hiện của một giá trị nào đó. Một cách làm khác tương tự là:"
   ]
  },
  {
   "cell_type": "code",
   "execution_count": null,
   "metadata": {},
   "outputs": [],
   "source": [
    "reviews.groupby('points').points.count()\n",
    "reviews.groupby('country').max()"
   ]
  },
  {
   "cell_type": "markdown",
   "metadata": {},
   "source": [
    "`groupby()` tạo một nhóm các reviews có cùng điểm đánh giá. Hàm `groupby()` không thực hiện thay đổi gì với bảng mà chỉ trả về một biến dạng `DataFrameGroupBy`, và ta cần nối với một hàm nào đó có sẵn (`sum, max, mean, min`) hoặc tự viết với `apply`. \n",
    "\n",
    "Với ví dụ trên, chúng ta lấy cột `points()` và đếm bao nhiêu lần giá trị này xuất hiện. `value_counts()` là hàm cho ra kết quả tương tự với cách `groupby()` này.\n",
    "\n",
    "Hãy xem một ví dụ nhỏ khác sau đây:"
   ]
  },
  {
   "cell_type": "code",
   "execution_count": 5,
   "metadata": {},
   "outputs": [],
   "source": [
    "import seaborn as sns\n",
    "iris_data = sns.load_dataset('iris')\n",
    "df = iris_data.head(5).copy()\n",
    "df = pd.concat([df, iris_data.iloc[50:55]])\n",
    "df = pd.concat([df, iris_data.iloc[100:105]])"
   ]
  },
  {
   "cell_type": "code",
   "execution_count": 6,
   "metadata": {},
   "outputs": [
    {
     "data": {
      "text/html": [
       "<div>\n",
       "<style scoped>\n",
       "    .dataframe tbody tr th:only-of-type {\n",
       "        vertical-align: middle;\n",
       "    }\n",
       "\n",
       "    .dataframe tbody tr th {\n",
       "        vertical-align: top;\n",
       "    }\n",
       "\n",
       "    .dataframe thead th {\n",
       "        text-align: right;\n",
       "    }\n",
       "</style>\n",
       "<table border=\"1\" class=\"dataframe\">\n",
       "  <thead>\n",
       "    <tr style=\"text-align: right;\">\n",
       "      <th></th>\n",
       "      <th>sepal_length</th>\n",
       "      <th>sepal_width</th>\n",
       "      <th>petal_length</th>\n",
       "      <th>petal_width</th>\n",
       "    </tr>\n",
       "    <tr>\n",
       "      <th>species</th>\n",
       "      <th></th>\n",
       "      <th></th>\n",
       "      <th></th>\n",
       "      <th></th>\n",
       "    </tr>\n",
       "  </thead>\n",
       "  <tbody>\n",
       "    <tr>\n",
       "      <th>setosa</th>\n",
       "      <td>24.3</td>\n",
       "      <td>16.4</td>\n",
       "      <td>7.0</td>\n",
       "      <td>1.0</td>\n",
       "    </tr>\n",
       "    <tr>\n",
       "      <th>versicolor</th>\n",
       "      <td>32.3</td>\n",
       "      <td>14.6</td>\n",
       "      <td>22.7</td>\n",
       "      <td>7.2</td>\n",
       "    </tr>\n",
       "    <tr>\n",
       "      <th>virginica</th>\n",
       "      <td>32.0</td>\n",
       "      <td>14.9</td>\n",
       "      <td>28.4</td>\n",
       "      <td>10.5</td>\n",
       "    </tr>\n",
       "  </tbody>\n",
       "</table>\n",
       "</div>"
      ],
      "text/plain": [
       "            sepal_length  sepal_width  petal_length  petal_width\n",
       "species                                                         \n",
       "setosa              24.3         16.4           7.0          1.0\n",
       "versicolor          32.3         14.6          22.7          7.2\n",
       "virginica           32.0         14.9          28.4         10.5"
      ]
     },
     "execution_count": 6,
     "metadata": {},
     "output_type": "execute_result"
    }
   ],
   "source": [
    "df.groupby('species').sum()"
   ]
  },
  {
   "cell_type": "markdown",
   "metadata": {},
   "source": [
    "![Ảnh](https://miro.medium.com/max/2000/0*m-puRNwcnUl5zZ4O)"
   ]
  },
  {
   "cell_type": "markdown",
   "metadata": {},
   "source": [
    "Ta có thể chỉ định cột nào sẽ được tính tổng. So sánh 2 cách sau:"
   ]
  },
  {
   "cell_type": "code",
   "execution_count": null,
   "metadata": {},
   "outputs": [],
   "source": [
    "df.groupby(‘species’).sum()[‘sepal_width’] # ← BAD!\n",
    "df.groupby(‘species’)[‘sepal_width’].sum() # ← BETTER & FASTER!"
   ]
  },
  {
   "cell_type": "markdown",
   "metadata": {},
   "source": [
    "Chúng ta có thể dùng bất kỳ hàm tổng hợp nào với dữ liệu này. Vd để liệt kê các loại vang rẻ tiền nhất trong mỗi nhóm điểm, ta làm `reviews.groupby('points').price.min()`"
   ]
  },
  {
   "cell_type": "markdown",
   "metadata": {},
   "source": [
    "Mỗi một nhóm tạo ra bởi `groupby()` có thể được xem như một slice của DataFrame chứa các giá trị trùng nhau. Và DataFrame này có thể được truy cập trực tiếp dùng hàm `apply()`, và ta có thể thao tác trên dữ liệu này theo cách ta muốn. Vd, một cách để chọn tên của rượu vang đầu tiên được reviewed từ mỗi lò rượu:"
   ]
  },
  {
   "cell_type": "code",
   "execution_count": 7,
   "metadata": {},
   "outputs": [
    {
     "data": {
      "text/plain": [
       "winery\n",
       "1+1=3                                     1+1=3 NV Rosé Sparkling (Cava)\n",
       "10 Knots                            10 Knots 2010 Viognier (Paso Robles)\n",
       "100 Percent Wine              100 Percent Wine 2015 Moscato (California)\n",
       "1000 Stories           1000 Stories 2013 Bourbon Barrel Aged Zinfande...\n",
       "1070 Green                  1070 Green 2011 Sauvignon Blanc (Rutherford)\n",
       "                                             ...                        \n",
       "Órale                       Órale 2011 Cabronita Red (Santa Ynez Valley)\n",
       "Öko                    Öko 2013 Made With Organically Grown Grapes Ma...\n",
       "Ökonomierat Rebholz    Ökonomierat Rebholz 2007 Von Rotliegenden Spät...\n",
       "àMaurice               àMaurice 2013 Fred Estate Syrah (Walla Walla V...\n",
       "Štoka                                    Štoka 2009 Izbrani Teran (Kras)\n",
       "Length: 16757, dtype: object"
      ]
     },
     "execution_count": 7,
     "metadata": {},
     "output_type": "execute_result"
    }
   ],
   "source": [
    "reviews.groupby('winery').apply(lambda df: df.title.iloc[0])"
   ]
  },
  {
   "cell_type": "markdown",
   "metadata": {},
   "source": [
    "Để truy cập sâu hơn, ta có thể nhóm với hơn một cột. Vd để chọn dòng vang tốt nhất theo nước và tỉnh:"
   ]
  },
  {
   "cell_type": "code",
   "execution_count": null,
   "metadata": {},
   "outputs": [],
   "source": [
    "# Dùng hàm không tên với cú pháp lambda (Unnamed function)\n",
    "# Ở đây ta hiển thị tất cả các cột còn lại (sau khi group) của DataFrame\n",
    "reviews.groupby(['country', 'province']).apply(lambda df: df.loc[df.points.idxmax()])"
   ]
  },
  {
   "cell_type": "code",
   "execution_count": 12,
   "metadata": {},
   "outputs": [
    {
     "data": {
      "text/html": [
       "<div>\n",
       "<style scoped>\n",
       "    .dataframe tbody tr th:only-of-type {\n",
       "        vertical-align: middle;\n",
       "    }\n",
       "\n",
       "    .dataframe tbody tr th {\n",
       "        vertical-align: top;\n",
       "    }\n",
       "\n",
       "    .dataframe thead th {\n",
       "        text-align: right;\n",
       "    }\n",
       "</style>\n",
       "<table border=\"1\" class=\"dataframe\">\n",
       "  <thead>\n",
       "    <tr style=\"text-align: right;\">\n",
       "      <th></th>\n",
       "      <th></th>\n",
       "      <th>points</th>\n",
       "      <th>price</th>\n",
       "    </tr>\n",
       "    <tr>\n",
       "      <th>country</th>\n",
       "      <th>province</th>\n",
       "      <th></th>\n",
       "      <th></th>\n",
       "    </tr>\n",
       "  </thead>\n",
       "  <tbody>\n",
       "    <tr>\n",
       "      <th rowspan=\"2\" valign=\"top\">Argentina</th>\n",
       "      <th>Mendoza Province</th>\n",
       "      <td>97.0</td>\n",
       "      <td>120.0</td>\n",
       "    </tr>\n",
       "    <tr>\n",
       "      <th>Other</th>\n",
       "      <td>95.0</td>\n",
       "      <td>90.0</td>\n",
       "    </tr>\n",
       "    <tr>\n",
       "      <th>Armenia</th>\n",
       "      <th>Armenia</th>\n",
       "      <td>88.0</td>\n",
       "      <td>15.0</td>\n",
       "    </tr>\n",
       "    <tr>\n",
       "      <th rowspan=\"2\" valign=\"top\">Australia</th>\n",
       "      <th>Australia Other</th>\n",
       "      <td>93.0</td>\n",
       "      <td>15.0</td>\n",
       "    </tr>\n",
       "    <tr>\n",
       "      <th>New South Wales</th>\n",
       "      <td>94.0</td>\n",
       "      <td>32.0</td>\n",
       "    </tr>\n",
       "    <tr>\n",
       "      <th>...</th>\n",
       "      <th>...</th>\n",
       "      <td>...</td>\n",
       "      <td>...</td>\n",
       "    </tr>\n",
       "    <tr>\n",
       "      <th rowspan=\"5\" valign=\"top\">Uruguay</th>\n",
       "      <th>Juanico</th>\n",
       "      <td>90.0</td>\n",
       "      <td>45.0</td>\n",
       "    </tr>\n",
       "    <tr>\n",
       "      <th>Montevideo</th>\n",
       "      <td>91.0</td>\n",
       "      <td>60.0</td>\n",
       "    </tr>\n",
       "    <tr>\n",
       "      <th>Progreso</th>\n",
       "      <td>90.0</td>\n",
       "      <td>46.0</td>\n",
       "    </tr>\n",
       "    <tr>\n",
       "      <th>San Jose</th>\n",
       "      <td>87.0</td>\n",
       "      <td>50.0</td>\n",
       "    </tr>\n",
       "    <tr>\n",
       "      <th>Uruguay</th>\n",
       "      <td>91.0</td>\n",
       "      <td>22.0</td>\n",
       "    </tr>\n",
       "  </tbody>\n",
       "</table>\n",
       "<p>425 rows × 2 columns</p>\n",
       "</div>"
      ],
      "text/plain": [
       "                            points  price\n",
       "country   province                       \n",
       "Argentina Mendoza Province    97.0  120.0\n",
       "          Other               95.0   90.0\n",
       "Armenia   Armenia             88.0   15.0\n",
       "Australia Australia Other     93.0   15.0\n",
       "          New South Wales     94.0   32.0\n",
       "...                            ...    ...\n",
       "Uruguay   Juanico             90.0   45.0\n",
       "          Montevideo          91.0   60.0\n",
       "          Progreso            90.0   46.0\n",
       "          San Jose            87.0   50.0\n",
       "          Uruguay             91.0   22.0\n",
       "\n",
       "[425 rows x 2 columns]"
      ]
     },
     "execution_count": 12,
     "metadata": {},
     "output_type": "execute_result"
    }
   ],
   "source": [
    "# Dùng hàm có tên get_best_wine tương đương với cách trên (Named function)\n",
    "def get_best_wine(group):\n",
    "    return group.loc[group.points.idxmax()]\n",
    "\n",
    "# Ở đây, ta chỉ hiển thị 2 cột \n",
    "reviews.groupby(['country', 'province'])['points', 'price'].apply(get_best_wine)   \n",
    "\n",
    "# tại sao câu lệnh dưới báo lỗi?? không work với 1 cột points??\n",
    "# reviews.groupby(['country', 'province'])['points'].apply(get_best_wine)   "
   ]
  },
  {
   "cell_type": "markdown",
   "metadata": {},
   "source": [
    "Một hàm nữa cần phải trao đổi là `agg()`. Hàm này cho phép chạy nhiều tính toán khác nhau trên DataFrame cùng lúc. Ví dụ có thể tạo một bảng tổng hợp thống kê đơn giản của dataset như sau:"
   ]
  },
  {
   "cell_type": "code",
   "execution_count": null,
   "metadata": {},
   "outputs": [],
   "source": [
    "# reviews.groupby('winery').title.agg(max)\n",
    "reviews.groupby(['country']).price.agg([len, min, max])"
   ]
  },
  {
   "cell_type": "markdown",
   "metadata": {},
   "source": [
    "Sử dụng thông thạo `groupby()` sẽ cho phép bạn làm nhiều điều hoành tráng với dataset của mình."
   ]
  },
  {
   "cell_type": "markdown",
   "metadata": {},
   "source": [
    "## Multi-indexes\n",
    "Groupby() với nhiều hơn một cột sẽ cho ta DataFrame hoặc Series với multi-index. \n",
    "Multi-index khác với index đơn là nó có nhiều levels."
   ]
  },
  {
   "cell_type": "code",
   "execution_count": null,
   "metadata": {},
   "outputs": [],
   "source": [
    "countries_reviewed = reviews.groupby(['country', 'province']).description.agg([len])\n",
    "countries_reviewed"
   ]
  },
  {
   "cell_type": "code",
   "execution_count": null,
   "metadata": {},
   "outputs": [],
   "source": [
    "mi = countries_reviewed.index\n",
    "type(mi)"
   ]
  },
  {
   "cell_type": "markdown",
   "metadata": {},
   "source": [
    "Cần 2 nhãn để truy xuất một giá trị của đối tượng có multi-index, xem thêm ở [doc của pandas](https://pandas.pydata.org/pandas-docs/stable/advanced.html). **Trong thực tế, hàm được dùng nhiều nhất lại là reset_index() . Why??**"
   ]
  },
  {
   "cell_type": "markdown",
   "metadata": {},
   "source": [
    "## Sắp xếp\n",
    "Xem lại `countries_reviewed` ta thấy nhóm trả về dữ liệu theo thứ tự của index, không phải của giá trị. Để có dữ liệu theo thứ tự mong muốn, ta có thể sắp xếp dùng hàm `sort_values()` (mặc định là theo thứ tự tăng dần, tuy nhiên, đa số các trường hợp chúng ta sẽ muốn hiển thị theo thứ tự giảm dần, nên sẽ phải thêm đối số `ascending`)"
   ]
  },
  {
   "cell_type": "code",
   "execution_count": null,
   "metadata": {},
   "outputs": [],
   "source": [
    "countries_reviewed = countries_reviewed.reset_index()\n",
    "countries_reviewed\n",
    "# countries_reviewed.sort_values(by='len', ascending=False)"
   ]
  },
  {
   "cell_type": "markdown",
   "metadata": {},
   "source": [
    "Để sắp xếp theo giá trị index, ta dùng hàm tương đương `sort_index()`: `countries_reviewed.sort_index()`. Và cũng giống như `groupby()`, ta có thể sort theo nhiều cột."
   ]
  },
  {
   "cell_type": "code",
   "execution_count": null,
   "metadata": {},
   "outputs": [],
   "source": [
    "countries_reviewed.sort_values(by=['country', 'len'])"
   ]
  },
  {
   "cell_type": "markdown",
   "metadata": {},
   "source": [
    "## Bài tập thực hành\n",
    "### 1\n",
    "Ai là người review vang nhiều nhất? Tạo một `Series` với index là `taster_twitter_handle` và giá trị là số lần mỗi người review viết.\n",
    "(gợi ý: dùng `groupby` với `size()` hoặc `count()`)"
   ]
  },
  {
   "cell_type": "code",
   "execution_count": null,
   "metadata": {
    "scrolled": true
   },
   "outputs": [],
   "source": [
    "reviews_written = "
   ]
  },
  {
   "cell_type": "markdown",
   "metadata": {},
   "source": [
    "### 2\n",
    "Giả sử tôi có $400, tìm tên loại vang ngon nhất mà tôi có thể mua với số tiền đang có? Tạo một `Series` có index là giá vang và giá trị là số điểm tối đa mà loại vang có giá chừng đó được đánh giá trong một review. Sắp xếp giá trị theo giá, thứ tự tăng dần)\n",
    "(gợi ý: dùng `max()` và `sort_index()` với các cột liên quan là `price` và `points`)"
   ]
  },
  {
   "cell_type": "code",
   "execution_count": null,
   "metadata": {},
   "outputs": [],
   "source": [
    "best_rating_per_price = "
   ]
  },
  {
   "cell_type": "markdown",
   "metadata": {},
   "source": [
    "### 3\n",
    "Giá tiền thấp nhất và cao nhất cho mỗi `variety` của vang là gì? Tạo một `DataFrame` có index là danh mục `variety` và giá trị là `min` và `max` của giá. (gợi ý: dùng `agg()`)"
   ]
  },
  {
   "cell_type": "code",
   "execution_count": null,
   "metadata": {},
   "outputs": [],
   "source": [
    "price_extremes = "
   ]
  },
  {
   "cell_type": "markdown",
   "metadata": {},
   "source": [
    "### 4\n",
    "Những loại vang đắt tiền nhất trong mỗi nhóm là gì? Tạo biến `sorted_varieties` với giá trị từ câu trước được sắp xếp theo thứ tự giảm dần dựa vào giá min, sau đó là giá max."
   ]
  },
  {
   "cell_type": "code",
   "execution_count": null,
   "metadata": {},
   "outputs": [],
   "source": [
    "sorted_varieties ="
   ]
  },
  {
   "cell_type": "markdown",
   "metadata": {},
   "source": [
    "### 5\n",
    "Tạo một `Series` có index là những người review và values là điểm review trung bình của người đó (gợi ý: cần các cột `taster_name` và `points`)"
   ]
  },
  {
   "cell_type": "code",
   "execution_count": null,
   "metadata": {},
   "outputs": [],
   "source": [
    "reviewer_mean_ratings ="
   ]
  },
  {
   "cell_type": "markdown",
   "metadata": {},
   "source": [
    "### 6\n",
    "Nhóm nước và loại vang nào là phổ biến nhất? Tạo một `Series` có index là một `MultiIndex` của cặp `{country, variery}`. Sắp xếp giá trị torng `Series` theo thứ tự giảm dần dựa vào số lượng vang đếm được. (gợi ý: dùng `groupby()` rồi đếm trên `variety` sau đó `sort_values()`.)"
   ]
  },
  {
   "cell_type": "code",
   "execution_count": null,
   "metadata": {},
   "outputs": [],
   "source": [
    "country_variety_counts ="
   ]
  },
  {
   "cell_type": "markdown",
   "metadata": {},
   "source": [
    "## Tìm hiểu kiểu dữ liệu\n",
    "### dtypes"
   ]
  },
  {
   "cell_type": "code",
   "execution_count": null,
   "metadata": {},
   "outputs": [],
   "source": [
    "print(reviews.price.dtype)\n",
    "reviews.dtypes"
   ]
  },
  {
   "cell_type": "markdown",
   "metadata": {},
   "source": [
    "Những cột chỉ chứa chuỗi không có kiểu dữ liệu riêng, mà ở đây được gán kiểu `object`. Tương tự như numpy, ta có thể ép kiểu dùng `astype()`"
   ]
  },
  {
   "cell_type": "code",
   "execution_count": null,
   "metadata": {},
   "outputs": [],
   "source": [
    "reviews.points.astype('float64')"
   ]
  },
  {
   "cell_type": "markdown",
   "metadata": {},
   "source": [
    "### Các hàm hỗ trợ chuyển đổi khác\n",
    "* `pd.to_numeric()` và\n",
    "* `pd.to_datetime()`\n",
    "\n",
    "Ưu điểm chính của chúng so với `astype` là giúp ta chỉ ra hành động cần làm khi một giá trị không thể chuyển đổi được. Cả 2 hàm có đối số `errors` cho phép ta bỏ qua lỗi với `errors='ignore'` hoặc chuyển giá trị đó thành `np.nan` với cách truyền `errors='coerce'`. Mặc định là pandas sẽ báo lỗi."
   ]
  },
  {
   "cell_type": "markdown",
   "metadata": {},
   "source": [
    "## Đối mặt với dữ liệu không đầy đủ\n",
    "Những chỗ dữ liệu bị thiếu, không đầy đủ thì được pandas hiển thị là `NaN` (viết tắt cho `Not a Number`). Kiểu của các giá trị `NaN` này luôn là `float64`.\n",
    "\n",
    "Để chọn các mục `NaN` này, ta dùng hàm `pd.isnull()`"
   ]
  },
  {
   "cell_type": "code",
   "execution_count": null,
   "metadata": {},
   "outputs": [],
   "source": [
    "reviews[pd.isnull(reviews.country)]"
   ]
  },
  {
   "cell_type": "markdown",
   "metadata": {},
   "source": [
    "Thay thế các giá trị bị thiếu này là một tác vụ thường xuyên với `fillna()`. Vd ta có thể thay thế mỗi giá trị `NaN` với `Unknown`:"
   ]
  },
  {
   "cell_type": "code",
   "execution_count": null,
   "metadata": {},
   "outputs": [],
   "source": [
    "reviews.region_2.fillna(\"Unknown\")"
   ]
  },
  {
   "cell_type": "markdown",
   "metadata": {},
   "source": [
    "Chúng ta có thể thay thế giá trị thiếu với giá trị non-null nào đó trong dataset. Đây gọi là lấp ngược (backfill strategy). Thêm vào đó, ta có thể dùng `replace()` để thay thế giá trị hiện tại. Vd: cập nhật tên tài khoản Twitter của người review rượu."
   ]
  },
  {
   "cell_type": "code",
   "execution_count": null,
   "metadata": {},
   "outputs": [],
   "source": [
    "reviews.taster_twitter_handle.replace(\"@kerinokeefe\", \"@kerino\")"
   ]
  },
  {
   "cell_type": "markdown",
   "metadata": {},
   "source": [
    "### `pd.to_numeric()`\n",
    "Chúng ta thử cố tình làm sai lệch dữ liệu đi:"
   ]
  },
  {
   "cell_type": "code",
   "execution_count": null,
   "metadata": {},
   "outputs": [],
   "source": [
    "reviews.loc[34285, 'price'] = 'I am causing trouble'\n",
    "reviews.loc[13285, 'price'] = 'Me too'"
   ]
  },
  {
   "cell_type": "markdown",
   "metadata": {},
   "source": [
    "Bây giờ thì `reviews.price.astype(int)` sẽ fail vì pandas không biết chuyển đổi chuỗi sang số integer. Trường hợp này, tôi thường kiểm tra các giá trị trong cột để hiểu rõ hơn chúng ta đang gặp phải những gì"
   ]
  },
  {
   "cell_type": "code",
   "execution_count": null,
   "metadata": {},
   "outputs": [],
   "source": [
    "reviews.price.apply(lambda x: type(x)).value_counts()"
   ]
  },
  {
   "cell_type": "markdown",
   "metadata": {},
   "source": [
    "Ta có thể xác định các hàng có dữ liệu bị sai bằng cách sau. Và từ đó có thể nhanh chóng sửa chúng cho phù hợp."
   ]
  },
  {
   "cell_type": "code",
   "execution_count": null,
   "metadata": {},
   "outputs": [],
   "source": [
    "reviews['price'][reviews.price.apply(lambda x: isinstance(x,str))]"
   ]
  },
  {
   "cell_type": "code",
   "execution_count": null,
   "metadata": {},
   "outputs": [],
   "source": [
    "# chuyển đổi thành np.nan rồi điền dữ liệu phù hợp\n",
    "reviews.price = pd.to_numeric(reviews.price, errors='coerce')\n",
    "reviews.price = reviews.price.fillna(reviews.price.median())\n",
    "reviews.price.astype(int)"
   ]
  },
  {
   "cell_type": "code",
   "execution_count": null,
   "metadata": {},
   "outputs": [],
   "source": [
    "reviews['reviewed_date'] = '20170108'"
   ]
  },
  {
   "cell_type": "markdown",
   "metadata": {},
   "source": [
    "### `pd.to_datetime()`\n",
    "Hàm này chuyển chuỗi thành dạng ngày tháng. Pandas sẽ đoán định dạng và lấy ngày tháng ra từ chuỗi đầu vào."
   ]
  },
  {
   "cell_type": "code",
   "execution_count": null,
   "metadata": {},
   "outputs": [],
   "source": [
    "print(pd.to_datetime('2019-8-1'))\n",
    "print(pd.to_datetime('2019/8/1'))\n",
    "print(pd.to_datetime('8/1/2019'))\n",
    "print(pd.to_datetime('Aug, 1 2019'))\n",
    "print(pd.to_datetime('Aug - 1 2019'))\n",
    "print(pd.to_datetime('August - 1 2019'))\n",
    "print(pd.to_datetime('2019, August - 1'))\n",
    "print(pd.to_datetime('20190108'))"
   ]
  },
  {
   "cell_type": "markdown",
   "metadata": {},
   "source": [
    "Tuy nhiên, chúng ta sẽ thường gặp các định dạng không giống ai, ví dụ như trong dòng cuối cùng kia, khi đó ta phải dùng `pd.to_datetime('20190108',format='%Y%d%m')` để chuyển đổi. Lưu ý một đối số quan trọng khi làm việc với định dạng ngày tháng `exact=False` sẽ giúp chuyển đổi đúng kể cả khi chuỗi đầu vào là `yolo 20190108`. Chúng ta hãy chuyển đổi cột `reviewed_date` mới thêm vào:"
   ]
  },
  {
   "cell_type": "code",
   "execution_count": null,
   "metadata": {},
   "outputs": [],
   "source": [
    "reviews.reviewed_date = pd.to_datetime(reviews.reviewed_date, format='%Y%d%m')"
   ]
  },
  {
   "cell_type": "markdown",
   "metadata": {},
   "source": [
    "Khi đó, ta có thể dùng accessor `dt` để truy cập đến muôn kiểu định dạng ngày tháng liên quan như: `date, weekday_name,days_in_month,second,hour` v.v..."
   ]
  },
  {
   "cell_type": "code",
   "execution_count": null,
   "metadata": {},
   "outputs": [],
   "source": [
    "reviews.reviewed_date.dt.month_name()"
   ]
  },
  {
   "cell_type": "markdown",
   "metadata": {},
   "source": [
    "Tương tự ta có accessor `str` cho chuỗi với rất nhiều hàm `lower()`, `upper()`, `center(width)`, `startswith(<substring>)`, `swapcase()` và `cat` cho categories (ít dùng)"
   ]
  },
  {
   "cell_type": "markdown",
   "metadata": {},
   "source": [
    "## Bài tập thực hành\n",
    "1. Tạo một Series từ những giá trị của cột `points` nhưng chuyển các giá trị này sang kiểu strings. (trong Python là `str`)\n",
    "2. Đôi khi giá rượu bị để là null. Có bao nhiêu reviews trong dataset bị thiếu giá?\n",
    "3. Những vùng nào sản xuất vang thông dụng nhất? Tạo một Series đếm số lần mỗi giá trị xuất hiện trong cột `region_1`. Các giá trị này thường bị thiếu, nên thay những giá trị đó bằng `Unknown`. Sắp xếp giảm dần. Kết quả sẽ giống thế này\n",
    "```\n",
    "Unknown                    21247\n",
    "Napa Valley                 4480\n",
    "                           ...  \n",
    "Bardolino Superiore            1\n",
    "Primitivo del Tarantinsso        1\n",
    "Name: region_1, Length: 1230, dtype: int64\n",
    "```\n",
    "4. Tìm hiểu lỗi của câu lệnh sau và sửa nó\n",
    "\n",
    "`reviews.taster_name.apply(lambda x: x.split(' ')[-1])`\n",
    "\n",
    "5. Đổi tên taster_name từ NaN của tất cả các dòng < 100k thành \"Robert Smith\" và >= 100k thành \"Alan Greenspan\""
   ]
  },
  {
   "cell_type": "markdown",
   "metadata": {},
   "source": [
    "## Đổi tên\n",
    "Thường thì dữ liệu ta có sẽ được đặt tên cột, tên hàng theo cách mà ta không quen, không thích. Khi đó, pandas có những hàm giúp ta đổi tên khác hay ho hơn. `rename()` cho phép ta đổi tên cột hay index dùng keyword `index` hay `column`"
   ]
  },
  {
   "cell_type": "code",
   "execution_count": null,
   "metadata": {},
   "outputs": [],
   "source": [
    "reviews = reviews.rename(columns={'points':'score'})\n",
    "reviews.rename(index={0: 'firstEntry', 1: 'secondEntry'})"
   ]
  },
  {
   "cell_type": "markdown",
   "metadata": {},
   "source": [
    "Ta sẽ thường phải đổi tên cột, nhưng rất hiếm khi đổi tên index. Nên thường hàm `set_index()` hay được dùng vì thuận tiện hơn.\n",
    "\n",
    "Bản thân tên cột và tên hàng cũng có thuộc tính `name` riêng của chúng. Hàm `rename_axis()` có thể được dùng để đổi các tên này. Vd:"
   ]
  },
  {
   "cell_type": "code",
   "execution_count": null,
   "metadata": {},
   "outputs": [],
   "source": [
    "reviews.rename_axis(\"STT\", axis='rows').rename_axis(\"Trường\", axis='columns')"
   ]
  },
  {
   "cell_type": "markdown",
   "metadata": {},
   "source": [
    "## Kết hợp dữ liệu\n",
    "Pandas cung cấp 3 cách chính để phục vụ nhu cầu kết hợp nhiều DataFrames hay Series lại với nhau: `concat()`, `join()`, và `merge()`. Hầu hết những gì `merge()` có thể làm cũng có thể được thực hiện với `join()` nên ta sẽ tập trung vào 2 cách đầu tiên.\n",
    "### concat()\n",
    "Gộp dữ liệu theo chiều dọc. Cách này hữu dụng khi ta có dữ liệu nằm trong các đối tượng Series hay DataFrame khác nhau nhưng có cùng số lượng cột, sau khi concat thì số dòng sẽ tăng lên nhưng số cột giữ nguyên.\n",
    "### join()\n",
    "Hàm này phức tạp hơn một chút và cho phép ta gộp nhiều đối tượng DataFrame khác nhau nhưng có cùng chung một index. Tức là sẽ tăng số cột theo chiều ngang. Để dùng `join` ta cần khai báo cách mà dữ liệu được gộp lại\n",
    "* **Left**: Giữ tất cả hàng trong DataFrame thứ nhất và thêm các cột từ DataFrame 2 bên cạnh cột khớp với `on`\n",
    "* **Right**: Ngược lại, giữ tất cả hàng trong DataFrame thứ hai và thêm các cột từ DataFrame thứ nhất. \n",
    "* **Inner**: Chỉ giữ những hàng trong DataFrame thứ nhất giao với DataFrame 2  \n",
    "* **Outer**: Giữ tất cả hàng trong cả 2 DataFrame bất kể có giá trị khớp với nhau hay không."
   ]
  },
  {
   "cell_type": "markdown",
   "metadata": {},
   "source": [
    "![Ảnh](https://miro.medium.com/max/669/1*DhTppnBct_rr9QMX_cHXNg.png)"
   ]
  },
  {
   "cell_type": "code",
   "execution_count": null,
   "metadata": {},
   "outputs": [],
   "source": [
    "stocks = pd.read_csv('https://gist.githubusercontent.com/alexdebrie/b3f40efc3dd7664df5a20f5eee85e854/raw/ee3e6feccba2464cbbc2e185fb17961c53d2a7f5/stocks.csv')\n",
    "stocks.info()"
   ]
  },
  {
   "cell_type": "code",
   "execution_count": null,
   "metadata": {},
   "outputs": [],
   "source": [
    "stocks2 = pd.read_csv('https://gist.githubusercontent.com/alexdebrie/53ebac036b404875ef8e981c0cbd0901/raw/6c70336130eb7e45cec167ee7cd52d15baa392ea/stocks2.csv')\n",
    "combined = pd.concat([stocks, stocks2], ignore_index=True)\n",
    "combined"
   ]
  },
  {
   "cell_type": "code",
   "execution_count": null,
   "metadata": {},
   "outputs": [],
   "source": [
    "companies = pd.read_csv('https://gist.githubusercontent.com/alexdebrie/90954a10bbdebd89185f7b4d340563cd/raw/d91744e599356b7a52b9c027751d4613c06c5f40/companies.csv')\n",
    "companies"
   ]
  },
  {
   "cell_type": "code",
   "execution_count": null,
   "metadata": {},
   "outputs": [],
   "source": [
    "enriched = combined.join(companies.set_index('symbol'), on='symbol', how='left')\n",
    "enriched"
   ]
  },
  {
   "cell_type": "markdown",
   "metadata": {},
   "source": [
    "Ta được kết quả có 25 hàng với 3 cột mới chỉ áp dụng với 3 cty AMZN, AAPL, and GOOG. Bây giờ so sánh với kết quả khi dùng inner join"
   ]
  },
  {
   "cell_type": "code",
   "execution_count": null,
   "metadata": {},
   "outputs": [],
   "source": [
    "enriched_inner = combined.join(companies.set_index('symbol'), on='symbol', how='inner')\n",
    "enriched_inner"
   ]
  },
  {
   "cell_type": "markdown",
   "metadata": {},
   "source": [
    "Trong trường hợp tên cột của 2 datasets trùng nhau, ta sẽ phải dùng thêm tham số `lsuffix` và `rsuffix` để phân biệt chúng.\n",
    "## Bài tập thực hành\n",
    "1. Đổi tên 2 cột `region_1` và `region_2` thành `region` và `locale`\n",
    "2. Đặt tên index của dataset là `wines`\n",
    "3. [Powerlifting dataset](https://drive.google.com/open?id=1hmwQ4DPv7w0U8AjkoAEzbMc3FR6jGGKp) chứa một bảng CSV có các cuộc thi đấu tạ và một bảng khác chứa danh sách các vận động viên. Cả 2 bảng đều chứa cột `MeetID` một khóa độc nhất cho mỗi cuộc thi trong dataset. Hãy tạo một dataset gộp 2 bảng này vào thành một."
   ]
  },
  {
   "cell_type": "code",
   "execution_count": null,
   "metadata": {},
   "outputs": [],
   "source": [
    "powerlifting_meets = pd.read_csv(\"../input/powerlifting-database/meets.csv\")\n",
    "powerlifting_competitors = pd.read_csv(\"../input/powerlifting-database/openpowerlifting.csv\")\n",
    "powerlifting_meets.info()\n",
    "powerlifting_competitors.info()"
   ]
  }
 ],
 "metadata": {
  "kernelspec": {
   "display_name": "Python 3",
   "language": "python",
   "name": "python3"
  },
  "language_info": {
   "codemirror_mode": {
    "name": "ipython",
    "version": 3
   },
   "file_extension": ".py",
   "mimetype": "text/x-python",
   "name": "python",
   "nbconvert_exporter": "python",
   "pygments_lexer": "ipython3",
   "version": "3.6.8"
  },
  "toc": {
   "base_numbering": 1,
   "nav_menu": {},
   "number_sections": true,
   "sideBar": true,
   "skip_h1_title": false,
   "title_cell": "Table of Contents",
   "title_sidebar": "Contents",
   "toc_cell": false,
   "toc_position": {},
   "toc_section_display": true,
   "toc_window_display": true
  }
 },
 "nbformat": 4,
 "nbformat_minor": 2
}
